{
 "cells": [
  {
   "cell_type": "markdown",
   "metadata": {},
   "source": [
    "# Introduction and fundamental subspaces"
   ]
  },
  {
   "cell_type": "markdown",
   "metadata": {},
   "source": [
    "## Question 1 (a)"
   ]
  },
  {
   "cell_type": "code",
   "execution_count": 7,
   "metadata": {},
   "outputs": [],
   "source": [
    "#get I1-II6\n",
    "def solve_I(b1,b2,b3,b4,b5,b6):\n",
    "    import numpy as np\n",
    "    A = np.array ([[0,6,-2,0,0,0],[0,4,1,2,2,0],[0,0,0,0,2,4],[1,-1,0,1,0,0],[0,0,1,0,-1,1],[0,0,0,1,-1,1]]) \n",
    "    b = np.array([b1,b2,b3,b4,b5,b6]) \n",
    "    x = np.linalg.solve(A,b) \n",
    "    return x"
   ]
  },
  {
   "cell_type": "code",
   "execution_count": 8,
   "metadata": {},
   "outputs": [
    {
     "data": {
      "image/png": "[encoded data removed]",
      "text/plain": [
       "<Figure size 800x600 with 1 Axes>"
      ]
     },
     "metadata": {},
     "output_type": "display_data"
    }
   ],
   "source": [
    "I = solve_I(10,17,14,0,0,0) # we can change the solve_I's parameters to get different currents\n",
    "import matplotlib.pyplot as plt\n",
    "plt.figure(figsize=(8, 6))\n",
    "plt.bar(range(1, 7), I, color='skyblue')\n",
    "plt.xlabel('Current Index')\n",
    "plt.ylabel('Current Value')\n",
    "plt.title('Linear System')\n",
    "plt.xticks(range(1, 7), [f'I_{i}' for i in range(1, 7)])\n",
    "plt.grid(axis='y')\n",
    "plt.show()"
   ]
  },
  {
   "cell_type": "markdown",
   "metadata": {},
   "source": [
    "## Question 1 (b)"
   ]
  },
  {
   "cell_type": "markdown",
   "metadata": {},
   "source": [
    "### What is the rank of the matrix?\n",
    "- The rank of a matrix is the number of independent columns.\n",
    "- The dimension of the column space, $dim(C(A))$"
   ]
  },
  {
   "cell_type": "code",
   "execution_count": 9,
   "metadata": {},
   "outputs": [
    {
     "name": "stdout",
     "output_type": "stream",
     "text": [
      "6\n"
     ]
    }
   ],
   "source": [
    "import numpy as np\n",
    "A = np.array ([[0,6,-2,0,0,0],[0,4,1,2,2,0],[0,0,0,0,2,4],[1,-1,0,1,0,0],[0,0,1,0,-1,1],[0,0,0,1,-1,1]]) \n",
    "rank_A = np.linalg.matrix_rank(A)\n",
    "#print(A)\n",
    "print(rank_A)"
   ]
  },
  {
   "cell_type": "markdown",
   "metadata": {},
   "source": [
    "## What is the dimensiion of the four fundamental subspaces $C(A), N(A),C(A^T), N(A^T)$ in this case?"
   ]
  },
  {
   "cell_type": "markdown",
   "metadata": {},
   "source": [
    "- $\\textbf{C}(A)$ = 6\n",
    "- $\\textbf{N}(A)$ = 0\n",
    "- $\\textbf{C}(A^T)$ = 6\n",
    "- $\\textbf{N}(A^T)$ = 0"
   ]
  },
  {
   "cell_type": "markdown",
   "metadata": {},
   "source": [
    "## Which subspace does the solution vector belong to?"
   ]
  },
  {
   "cell_type": "markdown",
   "metadata": {},
   "source": [
    "- Column Space, $C(A)$"
   ]
  },
  {
   "cell_type": "markdown",
   "metadata": {},
   "source": [
    "## Is the solution to the equation system unique given a certain right-hand-side? Motivate you answer."
   ]
  },
  {
   "cell_type": "markdown",
   "metadata": {},
   "source": [
    "- Yes. For any right-hand-side vector $\\textbf{b}$, as long as $\\textbf{b} \\in \\mathcal{R}^n$ , in this case $\\textbf{b} \\in \\mathcal{R}^6$,there is a always unique solution."
   ]
  },
  {
   "cell_type": "markdown",
   "metadata": {},
   "source": [
    "## Which subspace does the right-hand-side vector belong to?"
   ]
  },
  {
   "cell_type": "markdown",
   "metadata": {},
   "source": [
    "- Since the matrix $A$ is full rank, there will always be a solution for any $\\textbf{b}$."
   ]
  },
  {
   "cell_type": "markdown",
   "metadata": {},
   "source": [
    "## Is it possible to find a right-hand-side where no solution exists? If so, examplify and figure out which subspace that right-hand-side vector belong to?"
   ]
  },
  {
   "cell_type": "markdown",
   "metadata": {},
   "source": [
    "- Since matrix $A$ is full rank, there is no situation where there would be no solution. Any $\\textbf{b} \\in \\textbf{C}(A)$."
   ]
  },
  {
   "cell_type": "markdown",
   "metadata": {},
   "source": [
    "# Question 2 (a)"
   ]
  },
  {
   "cell_type": "code",
   "execution_count": 11,
   "metadata": {},
   "outputs": [
    {
     "name": "stdout",
     "output_type": "stream",
     "text": [
      "Vesion 1: 32.846137\n",
      "Version: 33.758441000000005\n"
     ]
    }
   ],
   "source": [
    "import numpy as np\n",
    "import time\n",
    "\n",
    "def matrix_fac_v1(A,B):\n",
    "    m, p1 = A.shape\n",
    "    p2, n = B.shape\n",
    "    if p1 != p2 :\n",
    "        print(\"Can not Mutiply!\")\n",
    "        return \n",
    "    C = np.zeros((m,n))\n",
    "    for i in range(m):\n",
    "        for j in range(n):\n",
    "            for k in range(p1):\n",
    "                C[i,j] += A[i,k] * B[k,j]\n",
    "    return C\n",
    "\n",
    "def matrix_fac_v2(A,B):\n",
    "    m, p1 = A.shape\n",
    "    p2, n = B.shape\n",
    "    if p1 != p2:\n",
    "        print(\"Can not Mutiply!\")\n",
    "        return \n",
    "    C = np.zeros((m,n))\n",
    "    for k in range(p1):\n",
    "        for j in range(n):\n",
    "            for i in range(m):\n",
    "                C[i,j] += A[i,k] * B[k,j]\n",
    "    return C\n",
    "\n",
    "\n",
    "A = np.random.rand(500,500)\n",
    "B = np.random.rand(500,500)\n",
    "\n",
    "start_time_v1 = time.process_time()\n",
    "matrix_fac_v1(A,B)\n",
    "end_time_v1 = time.process_time()\n",
    "time_v1 = end_time_v1 - start_time_v1\n",
    "print(\"Vesion 1:\",time_v1)\n",
    "\n",
    "start_time_v2 = time.process_time()\n",
    "matrix_fac_v2(A,B)\n",
    "end_time_v2 = time.process_time()\n",
    "time_v2 = end_time_v2 - start_time_v2\n",
    "print(\"Version:\",time_v2)"
   ]
  },
  {
   "cell_type": "markdown",
   "metadata": {},
   "source": [
    "## The leftmost algorithm is based on repeated dot-products, but what basic operation is the 2nd (rightmost) algorithm based on?"
   ]
  },
  {
   "cell_type": "markdown",
   "metadata": {},
   "source": [
    "The right algorithm is based on repeated additions to the elements of the result Matrix $A$. Each element $C(i,j)$ is accumulated by traversing over a row of $A$ and a column of $B$, multiplying the corresponding elements and adding them up. This approach is sometimes referred to as the [outer product method]https://en.wikipedia.org/wiki/Outer_product#:~:text=In%20linear%20algebra%2C%20the%20outer,an%20n%20%C3%97%20m%20matrix, where the outer productions of rows of $A$ and columns of $B$ are computed one element at a time and added to the accumulating matrix $C$."
   ]
  }
 ],
 "metadata": {
  "kernelspec": {
   "display_name": "Python 3",
   "language": "python",
   "name": "python3"
  },
  "language_info": {
   "codemirror_mode": {
    "name": "ipython",
    "version": 3
   },
   "file_extension": ".py",
   "mimetype": "text/x-python",
   "name": "python",
   "nbconvert_exporter": "python",
   "pygments_lexer": "ipython3",
   "version": "3.10.11"
  }
 },
 "nbformat": 4,
 "nbformat_minor": 2
}
